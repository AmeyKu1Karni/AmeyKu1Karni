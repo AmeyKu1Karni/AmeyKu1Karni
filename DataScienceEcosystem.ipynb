{
 "cells": [
  {
   "cell_type": "markdown",
   "id": "18f74ff6-2b67-4604-a5ec-7541485bcff9",
   "metadata": {},
   "source": [
    "# Data Science Tools and Ecosystem"
   ]
  },
  {
   "cell_type": "markdown",
   "id": "6afe559b-dbaf-4674-8780-439b1d3ba267",
   "metadata": {},
   "source": [
    "In this notebook, Data Science Tools and Ecosystem are summarized."
   ]
  },
  {
   "cell_type": "markdown",
   "id": "b847ba82-aff0-4dbe-b843-e1bfce773139",
   "metadata": {},
   "source": [
    "Some of the popular languages that Data Scientists use are:\n",
    "1. Python\n",
    "2. R\n",
    "3. Java"
   ]
  },
  {
   "cell_type": "markdown",
   "id": "36642195-dca1-45c5-b395-3f33116413e3",
   "metadata": {},
   "source": [
    "Some of the commonly used libraries used by Data Scientists include:\n",
    "1. Numpy\n",
    "2. Pandas\n",
    "3. Scikit-Learn\n",
    "4. Matplotlib"
   ]
  },
  {
   "cell_type": "markdown",
   "id": "0e408dd5-f8e7-4cfe-a326-97117090976f",
   "metadata": {},
   "source": [
    "Some of the commonly used tools used by Data Scientists include:\n",
    "1. Tenserflow\n",
    "2. Tableau\n",
    "3. Apache Spark\n",
    "4. Excel"
   ]
  },
  {
   "cell_type": "markdown",
   "id": "bda76731-3e9a-4dcc-b598-8dd5d9cbb7aa",
   "metadata": {},
   "source": [
    "# Arithmetic Expressions\n",
    "Here are some arithmetic examples:"
   ]
  },
  {
   "cell_type": "code",
   "execution_count": 1,
   "id": "9245b589-405c-4ead-89d8-f35a26dc1155",
   "metadata": {},
   "outputs": [],
   "source": [
    "# Multiply and Add numbers\n",
    "a = 4\n",
    "b = 8\n",
    "c = a + b #addition\n",
    "d = a*b #multiplication"
   ]
  },
  {
   "cell_type": "code",
   "execution_count": 2,
   "id": "acb25b99-4b5a-45c3-b5ac-fa67ebb218fc",
   "metadata": {},
   "outputs": [
    {
     "data": {
      "text/plain": [
       "12"
      ]
     },
     "execution_count": 2,
     "metadata": {},
     "output_type": "execute_result"
    }
   ],
   "source": [
    "c"
   ]
  },
  {
   "cell_type": "code",
   "execution_count": 3,
   "id": "7cbaba8d-304c-4b10-a7da-fe3bc705ffea",
   "metadata": {},
   "outputs": [
    {
     "data": {
      "text/plain": [
       "32"
      ]
     },
     "execution_count": 3,
     "metadata": {},
     "output_type": "execute_result"
    }
   ],
   "source": [
    "d"
   ]
  },
  {
   "cell_type": "code",
   "execution_count": 4,
   "id": "d69ae2cf-a068-45d6-af0f-aec8e173ce05",
   "metadata": {},
   "outputs": [
    {
     "name": "stdout",
     "output_type": "stream",
     "text": [
      "2.0\n"
     ]
    }
   ],
   "source": [
    "# Convert minutes to hours\n",
    "minutes = 120\n",
    "hours = minutes/60\n",
    "print(hours)"
   ]
  },
  {
   "cell_type": "markdown",
   "id": "c27101aa-88ba-4724-84b7-450304c88167",
   "metadata": {},
   "source": [
    "Objectives for Data Science:-\n",
    "find patterns in data\n",
    "Practice coding with Python\n",
    "Understand arithmetic expressions and conversions"
   ]
  },
  {
   "cell_type": "markdown",
   "id": "110ac3f5-d25f-4ff9-a10a-b1c72fc15d61",
   "metadata": {},
   "source": [
    "## Author\n",
    "Amey Kulkarni"
   ]
  },
  {
   "cell_type": "code",
   "execution_count": null,
   "id": "c530a14d-5175-4010-8ded-f04bd829f15f",
   "metadata": {},
   "outputs": [],
   "source": []
  }
 ],
 "metadata": {
  "kernelspec": {
   "display_name": "Python 3 (ipykernel)",
   "language": "python",
   "name": "python3"
  },
  "language_info": {
   "codemirror_mode": {
    "name": "ipython",
    "version": 3
   },
   "file_extension": ".py",
   "mimetype": "text/x-python",
   "name": "python",
   "nbconvert_exporter": "python",
   "pygments_lexer": "ipython3",
   "version": "3.12.5"
  }
 },
 "nbformat": 4,
 "nbformat_minor": 5
}
